{
 "cells": [
  {
   "cell_type": "markdown",
   "id": "bff24dc2",
   "metadata": {},
   "source": [
    "# 📝 Exercise M6.04\n",
    "\n",
    "The aim of the exercise is to get familiar with the histogram\n",
    "gradient-boosting in scikit-learn. Besides, we will use this model within a\n",
    "cross-validation framework in order to inspect internal parameters found via\n",
    "grid-search.\n",
    "\n",
    "We will use the California housing dataset."
   ]
  },
  {
   "cell_type": "code",
   "execution_count": 58,
   "id": "25a205a5",
   "metadata": {},
   "outputs": [],
   "source": [
    "from sklearn.datasets import fetch_california_housing\n",
    "\n",
    "data, target = fetch_california_housing(return_X_y=True, as_frame=True)\n",
    "target *= 100  # rescale the target in k$"
   ]
  },
  {
   "cell_type": "code",
   "execution_count": 59,
   "id": "ee32f66a",
   "metadata": {},
   "outputs": [
    {
     "data": {
      "text/plain": [
       "0        452.6\n",
       "1        358.5\n",
       "2        352.1\n",
       "3        341.3\n",
       "4        342.2\n",
       "         ...  \n",
       "20635     78.1\n",
       "20636     77.1\n",
       "20637     92.3\n",
       "20638     84.7\n",
       "20639     89.4\n",
       "Name: MedHouseVal, Length: 20640, dtype: float64"
      ]
     },
     "execution_count": 59,
     "metadata": {},
     "output_type": "execute_result"
    }
   ],
   "source": [
    "target"
   ]
  },
  {
   "cell_type": "markdown",
   "id": "3a6ea866",
   "metadata": {},
   "source": [
    "First, create a histogram gradient boosting regressor. You can set the trees\n",
    "number to be large, and configure the model to use early-stopping."
   ]
  },
  {
   "cell_type": "code",
   "execution_count": 60,
   "id": "b656e858",
   "metadata": {},
   "outputs": [],
   "source": [
    "from sklearn.ensemble import HistGradientBoostingRegressor\n",
    "\n",
    "hist_gradient_boosting = HistGradientBoostingRegressor(max_iter=1000, early_stopping=True)\n"
   ]
  },
  {
   "cell_type": "markdown",
   "id": "c739b0b1",
   "metadata": {},
   "source": [
    "We will use a grid-search to find some optimal parameter for this model. In\n",
    "this grid-search, you should search for the following parameters:\n",
    "\n",
    "* `max_depth: [3, 8]`;\n",
    "* `max_leaf_nodes: [15, 31]`;\n",
    "* `learning_rate: [0.1, 1]`.\n",
    "\n",
    "Feel free to explore the space with additional values. Create the grid-search\n",
    "providing the previous gradient boosting instance as the model."
   ]
  },
  {
   "cell_type": "code",
   "execution_count": 61,
   "id": "b0662d01",
   "metadata": {},
   "outputs": [],
   "source": [
    "from sklearn.model_selection import GridSearchCV\n",
    "\n",
    "param_distributions = {\n",
    "    \"max_iter\": [3, 8],\n",
    "    \"max_leaf_nodes\": [15, 31],\n",
    "    \"learning_rate\": [0.01, 1],\n",
    "}\n",
    "\n",
    "search_cv = GridSearchCV(\n",
    "    hist_gradient_boosting, \n",
    "    param_grid=param_distributions\n",
    ")\n",
    "\n"
   ]
  },
  {
   "cell_type": "markdown",
   "id": "3e1a057e",
   "metadata": {},
   "source": [
    "Finally, we will run our experiment through cross-validation. In this regard,\n",
    "define a 5-fold cross-validation. Besides, be sure to shuffle the data.\n",
    "Subsequently, use the function `sklearn.model_selection.cross_validate` to run\n",
    "the cross-validation. You should also set `return_estimator=True`, so that we\n",
    "can investigate the inner model trained via cross-validation."
   ]
  },
  {
   "cell_type": "code",
   "execution_count": 62,
   "id": "24edde32",
   "metadata": {},
   "outputs": [],
   "source": [
    "from sklearn.model_selection import cross_validate\n",
    "from sklearn.model_selection import KFold\n",
    "\n",
    "cv = KFold(n_splits=5, shuffle=True, random_state=0)\n",
    "cv_results = cross_validate(\n",
    "    search_cv,\n",
    "    data,\n",
    "    target,\n",
    "    cv=cv,\n",
    "    return_estimator=True,\n",
    ")\n"
   ]
  },
  {
   "cell_type": "code",
   "execution_count": 63,
   "id": "6c173328",
   "metadata": {},
   "outputs": [
    {
     "data": {
      "text/plain": [
       "{'fit_time': array([1.1249814 , 1.08309793, 1.09750605, 1.04170513, 1.05165839]),\n",
       " 'score_time': array([0.00100613, 0.00620008, 0.00086093, 0.00099754, 0.        ]),\n",
       " 'estimator': [GridSearchCV(estimator=HistGradientBoostingRegressor(early_stopping=True,\n",
       "                                                       max_iter=1000),\n",
       "               param_grid={'learning_rate': [0.01, 1], 'max_iter': [3, 8],\n",
       "                           'max_leaf_nodes': [15, 31]}),\n",
       "  GridSearchCV(estimator=HistGradientBoostingRegressor(early_stopping=True,\n",
       "                                                       max_iter=1000),\n",
       "               param_grid={'learning_rate': [0.01, 1], 'max_iter': [3, 8],\n",
       "                           'max_leaf_nodes': [15, 31]}),\n",
       "  GridSearchCV(estimator=HistGradientBoostingRegressor(early_stopping=True,\n",
       "                                                       max_iter=1000),\n",
       "               param_grid={'learning_rate': [0.01, 1], 'max_iter': [3, 8],\n",
       "                           'max_leaf_nodes': [15, 31]}),\n",
       "  GridSearchCV(estimator=HistGradientBoostingRegressor(early_stopping=True,\n",
       "                                                       max_iter=1000),\n",
       "               param_grid={'learning_rate': [0.01, 1], 'max_iter': [3, 8],\n",
       "                           'max_leaf_nodes': [15, 31]}),\n",
       "  GridSearchCV(estimator=HistGradientBoostingRegressor(early_stopping=True,\n",
       "                                                       max_iter=1000),\n",
       "               param_grid={'learning_rate': [0.01, 1], 'max_iter': [3, 8],\n",
       "                           'max_leaf_nodes': [15, 31]})],\n",
       " 'test_score': array([0.72968656, 0.75979918, 0.78220032, 0.77335863, 0.75349522])}"
      ]
     },
     "execution_count": 63,
     "metadata": {},
     "output_type": "execute_result"
    }
   ],
   "source": [
    "cv_results"
   ]
  },
  {
   "cell_type": "markdown",
   "id": "bb424b2f",
   "metadata": {},
   "source": [
    "Now that we got the cross-validation results, print out the mean and standard\n",
    "deviation score."
   ]
  },
  {
   "cell_type": "code",
   "execution_count": 64,
   "id": "f56ecbeb",
   "metadata": {},
   "outputs": [
    {
     "name": "stdout",
     "output_type": "stream",
     "text": [
      "average test score : $0.7597079803254034\n",
      "std test score : $0.018067307635718226\n"
     ]
    }
   ],
   "source": [
    "print(f'average test score : ${cv_results[\"test_score\"].mean()}')\n",
    "print(f'std test score : ${cv_results[\"test_score\"].std()}')"
   ]
  },
  {
   "cell_type": "code",
   "execution_count": 65,
   "id": "16a4e320",
   "metadata": {},
   "outputs": [
    {
     "data": {
      "text/plain": [
       "{'scoring': None,\n",
       " 'estimator': HistGradientBoostingRegressor(early_stopping=True, max_iter=1000),\n",
       " 'n_jobs': None,\n",
       " 'refit': True,\n",
       " 'cv': None,\n",
       " 'verbose': 0,\n",
       " 'pre_dispatch': '2*n_jobs',\n",
       " 'error_score': nan,\n",
       " 'return_train_score': False,\n",
       " 'param_grid': {'max_iter': [3, 8],\n",
       "  'max_leaf_nodes': [15, 31],\n",
       "  'learning_rate': [0.01, 1]},\n",
       " 'multimetric_': False,\n",
       " 'best_index_': 5,\n",
       " 'best_score_': 0.586707132235113,\n",
       " 'best_params_': {'learning_rate': 1, 'max_iter': 3, 'max_leaf_nodes': 31},\n",
       " 'best_estimator_': HistGradientBoostingRegressor(early_stopping=True, learning_rate=1, max_iter=3),\n",
       " 'refit_time_': 0.02678370475769043,\n",
       " 'feature_names_in_': array(['MedInc', 'HouseAge', 'AveRooms', 'AveBedrms', 'Population',\n",
       "        'AveOccup', 'Latitude', 'Longitude'], dtype=object),\n",
       " 'scorer_': <sklearn.metrics._scorer._PassthroughScorer at 0x17812d80670>,\n",
       " 'cv_results_': {'mean_fit_time': array([0.02067242, 0.02072248, 0.0264823 , 0.03432555, 0.02060928,\n",
       "         0.02172332, 0.02303886, 0.03221464]),\n",
       "  'std_fit_time': array([0.00462495, 0.00218255, 0.00264047, 0.00648745, 0.00301099,\n",
       "         0.00145593, 0.00174882, 0.00589056]),\n",
       "  'mean_score_time': array([0.00363379, 0.        , 0.00227489, 0.00145063, 0.00151005,\n",
       "         0.0018271 , 0.00234232, 0.00258541]),\n",
       "  'std_score_time': array([0.00448707, 0.        , 0.00064044, 0.00077473, 0.00090279,\n",
       "         0.00228911, 0.00288058, 0.00200318]),\n",
       "  'param_learning_rate': masked_array(data=[0.01, 0.01, 0.01, 0.01, 1, 1, 1, 1],\n",
       "               mask=[False, False, False, False, False, False, False, False],\n",
       "         fill_value='?',\n",
       "              dtype=object),\n",
       "  'param_max_iter': masked_array(data=[3, 3, 8, 8, 3, 3, 8, 8],\n",
       "               mask=[False, False, False, False, False, False, False, False],\n",
       "         fill_value='?',\n",
       "              dtype=object),\n",
       "  'param_max_leaf_nodes': masked_array(data=[15, 31, 15, 31, 15, 31, 15, 31],\n",
       "               mask=[False, False, False, False, False, False, False, False],\n",
       "         fill_value='?',\n",
       "              dtype=object),\n",
       "  'params': [{'learning_rate': 0.01, 'max_iter': 3, 'max_leaf_nodes': 15},\n",
       "   {'learning_rate': 0.01, 'max_iter': 3, 'max_leaf_nodes': 31},\n",
       "   {'learning_rate': 0.01, 'max_iter': 8, 'max_leaf_nodes': 15},\n",
       "   {'learning_rate': 0.01, 'max_iter': 8, 'max_leaf_nodes': 31},\n",
       "   {'learning_rate': 1, 'max_iter': 3, 'max_leaf_nodes': 15},\n",
       "   {'learning_rate': 1, 'max_iter': 3, 'max_leaf_nodes': 31},\n",
       "   {'learning_rate': 1, 'max_iter': 8, 'max_leaf_nodes': 15},\n",
       "   {'learning_rate': 1, 'max_iter': 8, 'max_leaf_nodes': 31}],\n",
       "  'split0_test_score': array([-0.17255806, -0.17207605, -0.10692536, -0.10170725,  0.44502365,\n",
       "          0.4893991 ,  0.50346803,  0.39171697]),\n",
       "  'split1_test_score': array([0.01164263, 0.01255501, 0.06350786, 0.06926114, 0.61745402,\n",
       "         0.66082875, 0.51891401, 0.608866  ]),\n",
       "  'split2_test_score': array([-0.06065384, -0.05722397,  0.00136883,  0.00808519,  0.64650923,\n",
       "          0.63189318,  0.66831421,  0.64960555]),\n",
       "  'split3_test_score': array([-5.54608018e-02, -4.80580704e-02, -1.10844401e-02, -2.92253415e-04,\n",
       "          5.71245469e-01,  5.66284570e-01,  6.69463202e-01,  6.04203430e-01]),\n",
       "  'split4_test_score': array([-0.00787402, -0.0061661 ,  0.04865806,  0.05229337,  0.54344236,\n",
       "          0.58513006,  0.5353379 ,  0.59735538]),\n",
       "  'mean_test_score': array([-0.05698082, -0.05419383, -0.00089501,  0.00552804,  0.56473494,\n",
       "          0.58670713,  0.57909947,  0.57034946]),\n",
       "  'std_test_score': array([0.06402274, 0.06435078, 0.05992432, 0.05964684, 0.0697035 ,\n",
       "         0.05903256, 0.07400318, 0.09115923]),\n",
       "  'rank_test_score': array([8, 7, 6, 5, 4, 1, 2, 3])},\n",
       " 'n_splits_': 5}"
      ]
     },
     "execution_count": 65,
     "metadata": {},
     "output_type": "execute_result"
    }
   ],
   "source": [
    "vars(cv_results[\"estimator\"][0])"
   ]
  },
  {
   "cell_type": "markdown",
   "id": "65c73d20",
   "metadata": {},
   "source": [
    "Then inspect the `estimator` entry of the results and check the best\n",
    "parameters values. Besides, check the number of trees used by the model."
   ]
  },
  {
   "cell_type": "code",
   "execution_count": 66,
   "id": "3c3258fa",
   "metadata": {},
   "outputs": [
    {
     "name": "stdout",
     "output_type": "stream",
     "text": [
      "{'scoring': None, 'estimator': HistGradientBoostingRegressor(early_stopping=True, max_iter=1000), 'n_jobs': None, 'refit': True, 'cv': None, 'verbose': 0, 'pre_dispatch': '2*n_jobs', 'error_score': nan, 'return_train_score': False, 'param_grid': {'max_iter': [3, 8], 'max_leaf_nodes': [15, 31], 'learning_rate': [0.01, 1]}, 'multimetric_': False, 'best_index_': 5, 'best_score_': 0.586707132235113, 'best_params_': {'learning_rate': 1, 'max_iter': 3, 'max_leaf_nodes': 31}, 'best_estimator_': HistGradientBoostingRegressor(early_stopping=True, learning_rate=1, max_iter=3), 'refit_time_': 0.02678370475769043, 'feature_names_in_': array(['MedInc', 'HouseAge', 'AveRooms', 'AveBedrms', 'Population',\n",
      "       'AveOccup', 'Latitude', 'Longitude'], dtype=object), 'scorer_': <sklearn.metrics._scorer._PassthroughScorer object at 0x0000017812D80670>, 'cv_results_': {'mean_fit_time': array([0.02067242, 0.02072248, 0.0264823 , 0.03432555, 0.02060928,\n",
      "       0.02172332, 0.02303886, 0.03221464]), 'std_fit_time': array([0.00462495, 0.00218255, 0.00264047, 0.00648745, 0.00301099,\n",
      "       0.00145593, 0.00174882, 0.00589056]), 'mean_score_time': array([0.00363379, 0.        , 0.00227489, 0.00145063, 0.00151005,\n",
      "       0.0018271 , 0.00234232, 0.00258541]), 'std_score_time': array([0.00448707, 0.        , 0.00064044, 0.00077473, 0.00090279,\n",
      "       0.00228911, 0.00288058, 0.00200318]), 'param_learning_rate': masked_array(data=[0.01, 0.01, 0.01, 0.01, 1, 1, 1, 1],\n",
      "             mask=[False, False, False, False, False, False, False, False],\n",
      "       fill_value='?',\n",
      "            dtype=object), 'param_max_iter': masked_array(data=[3, 3, 8, 8, 3, 3, 8, 8],\n",
      "             mask=[False, False, False, False, False, False, False, False],\n",
      "       fill_value='?',\n",
      "            dtype=object), 'param_max_leaf_nodes': masked_array(data=[15, 31, 15, 31, 15, 31, 15, 31],\n",
      "             mask=[False, False, False, False, False, False, False, False],\n",
      "       fill_value='?',\n",
      "            dtype=object), 'params': [{'learning_rate': 0.01, 'max_iter': 3, 'max_leaf_nodes': 15}, {'learning_rate': 0.01, 'max_iter': 3, 'max_leaf_nodes': 31}, {'learning_rate': 0.01, 'max_iter': 8, 'max_leaf_nodes': 15}, {'learning_rate': 0.01, 'max_iter': 8, 'max_leaf_nodes': 31}, {'learning_rate': 1, 'max_iter': 3, 'max_leaf_nodes': 15}, {'learning_rate': 1, 'max_iter': 3, 'max_leaf_nodes': 31}, {'learning_rate': 1, 'max_iter': 8, 'max_leaf_nodes': 15}, {'learning_rate': 1, 'max_iter': 8, 'max_leaf_nodes': 31}], 'split0_test_score': array([-0.17255806, -0.17207605, -0.10692536, -0.10170725,  0.44502365,\n",
      "        0.4893991 ,  0.50346803,  0.39171697]), 'split1_test_score': array([0.01164263, 0.01255501, 0.06350786, 0.06926114, 0.61745402,\n",
      "       0.66082875, 0.51891401, 0.608866  ]), 'split2_test_score': array([-0.06065384, -0.05722397,  0.00136883,  0.00808519,  0.64650923,\n",
      "        0.63189318,  0.66831421,  0.64960555]), 'split3_test_score': array([-5.54608018e-02, -4.80580704e-02, -1.10844401e-02, -2.92253415e-04,\n",
      "        5.71245469e-01,  5.66284570e-01,  6.69463202e-01,  6.04203430e-01]), 'split4_test_score': array([-0.00787402, -0.0061661 ,  0.04865806,  0.05229337,  0.54344236,\n",
      "        0.58513006,  0.5353379 ,  0.59735538]), 'mean_test_score': array([-0.05698082, -0.05419383, -0.00089501,  0.00552804,  0.56473494,\n",
      "        0.58670713,  0.57909947,  0.57034946]), 'std_test_score': array([0.06402274, 0.06435078, 0.05992432, 0.05964684, 0.0697035 ,\n",
      "       0.05903256, 0.07400318, 0.09115923]), 'rank_test_score': array([8, 7, 6, 5, 4, 1, 2, 3])}, 'n_splits_': 5}\n",
      "{'learning_rate': 1, 'max_iter': 3, 'max_leaf_nodes': 31}\n",
      "3\n",
      "{'scoring': None, 'estimator': HistGradientBoostingRegressor(early_stopping=True, max_iter=1000), 'n_jobs': None, 'refit': True, 'cv': None, 'verbose': 0, 'pre_dispatch': '2*n_jobs', 'error_score': nan, 'return_train_score': False, 'param_grid': {'max_iter': [3, 8], 'max_leaf_nodes': [15, 31], 'learning_rate': [0.01, 1]}, 'multimetric_': False, 'best_index_': 6, 'best_score_': 0.5857825195723196, 'best_params_': {'learning_rate': 1, 'max_iter': 8, 'max_leaf_nodes': 15}, 'best_estimator_': HistGradientBoostingRegressor(early_stopping=True, learning_rate=1, max_iter=8,\n",
      "                              max_leaf_nodes=15), 'refit_time_': 0.022838354110717773, 'feature_names_in_': array(['MedInc', 'HouseAge', 'AveRooms', 'AveBedrms', 'Population',\n",
      "       'AveOccup', 'Latitude', 'Longitude'], dtype=object), 'scorer_': <sklearn.metrics._scorer._PassthroughScorer object at 0x0000017812D85B80>, 'cv_results_': {'mean_fit_time': array([0.01736665, 0.020964  , 0.02395148, 0.03558917, 0.01909332,\n",
      "       0.02333255, 0.02535567, 0.03152599]), 'std_fit_time': array([0.00061684, 0.00088641, 0.00295981, 0.00464252, 0.00225855,\n",
      "       0.00332034, 0.00166389, 0.00697789]), 'mean_score_time': array([0.00120535, 0.00120149, 0.00128217, 0.00135984, 0.00120082,\n",
      "       0.00160522, 0.00112195, 0.00123587]), 'std_score_time': array([0.00039789, 0.00074932, 0.00097726, 0.00076841, 0.00074918,\n",
      "       0.00049337, 0.00069703, 0.00247173]), 'param_learning_rate': masked_array(data=[0.01, 0.01, 0.01, 0.01, 1, 1, 1, 1],\n",
      "             mask=[False, False, False, False, False, False, False, False],\n",
      "       fill_value='?',\n",
      "            dtype=object), 'param_max_iter': masked_array(data=[3, 3, 8, 8, 3, 3, 8, 8],\n",
      "             mask=[False, False, False, False, False, False, False, False],\n",
      "       fill_value='?',\n",
      "            dtype=object), 'param_max_leaf_nodes': masked_array(data=[15, 31, 15, 31, 15, 31, 15, 31],\n",
      "             mask=[False, False, False, False, False, False, False, False],\n",
      "       fill_value='?',\n",
      "            dtype=object), 'params': [{'learning_rate': 0.01, 'max_iter': 3, 'max_leaf_nodes': 15}, {'learning_rate': 0.01, 'max_iter': 3, 'max_leaf_nodes': 31}, {'learning_rate': 0.01, 'max_iter': 8, 'max_leaf_nodes': 15}, {'learning_rate': 0.01, 'max_iter': 8, 'max_leaf_nodes': 31}, {'learning_rate': 1, 'max_iter': 3, 'max_leaf_nodes': 15}, {'learning_rate': 1, 'max_iter': 3, 'max_leaf_nodes': 31}, {'learning_rate': 1, 'max_iter': 8, 'max_leaf_nodes': 15}, {'learning_rate': 1, 'max_iter': 8, 'max_leaf_nodes': 31}], 'split0_test_score': array([-0.19093652, -0.18473701, -0.13019377, -0.12730289,  0.32657761,\n",
      "        0.39464498,  0.44734208,  0.485555  ]), 'split1_test_score': array([0.00373621, 0.00346545, 0.05365402, 0.06144769, 0.58299287,\n",
      "       0.60723377, 0.59265453, 0.59075313]), 'split2_test_score': array([-0.05745392, -0.05134608,  0.00577183,  0.01165417,  0.61461529,\n",
      "        0.64819891,  0.66974083,  0.65665204]), 'split3_test_score': array([-0.05030065, -0.04400244, -0.01253987,  0.00410889,  0.54665447,\n",
      "        0.5234676 ,  0.64138947,  0.58477187]), 'split4_test_score': array([-0.00152295, -0.00180583,  0.05236266,  0.05635011,  0.5564361 ,\n",
      "        0.57947035,  0.57778569,  0.53139183]), 'mean_test_score': array([-0.05929557, -0.05568518, -0.00618903,  0.00125159,  0.52545527,\n",
      "        0.55060312,  0.58578252,  0.56982477]), 'std_test_score': array([0.07031973, 0.06813438, 0.0671864 , 0.06826719, 0.10219748,\n",
      "       0.08789148, 0.07670471, 0.05792905]), 'rank_test_score': array([8, 7, 6, 5, 4, 3, 1, 2])}, 'n_splits_': 5}\n",
      "{'learning_rate': 1, 'max_iter': 8, 'max_leaf_nodes': 15}\n",
      "8\n",
      "{'scoring': None, 'estimator': HistGradientBoostingRegressor(early_stopping=True, max_iter=1000), 'n_jobs': None, 'refit': True, 'cv': None, 'verbose': 0, 'pre_dispatch': '2*n_jobs', 'error_score': nan, 'return_train_score': False, 'param_grid': {'max_iter': [3, 8], 'max_leaf_nodes': [15, 31], 'learning_rate': [0.01, 1]}, 'multimetric_': False, 'best_index_': 6, 'best_score_': 0.5796267632730545, 'best_params_': {'learning_rate': 1, 'max_iter': 8, 'max_leaf_nodes': 15}, 'best_estimator_': HistGradientBoostingRegressor(early_stopping=True, learning_rate=1, max_iter=8,\n",
      "                              max_leaf_nodes=15), 'refit_time_': 0.03643798828125, 'feature_names_in_': array(['MedInc', 'HouseAge', 'AveRooms', 'AveBedrms', 'Population',\n",
      "       'AveOccup', 'Latitude', 'Longitude'], dtype=object), 'scorer_': <sklearn.metrics._scorer._PassthroughScorer object at 0x0000017812D85D00>, 'cv_results_': {'mean_fit_time': array([0.02066259, 0.02039967, 0.02482743, 0.02834544, 0.02207642,\n",
      "       0.02304125, 0.02278295, 0.03068495]), 'std_fit_time': array([0.00128815, 0.00208785, 0.00500327, 0.00994568, 0.00690771,\n",
      "       0.008146  , 0.00667899, 0.00191018]), 'mean_score_time': array([0.00142746, 0.00189524, 0.00130758, 0.00361943, 0.00065832,\n",
      "       0.        , 0.00250101, 0.00050073]), 'std_score_time': array([0.00082436, 0.00239888, 0.0024478 , 0.00603282, 0.00131664,\n",
      "       0.        , 0.00500202, 0.00100145]), 'param_learning_rate': masked_array(data=[0.01, 0.01, 0.01, 0.01, 1, 1, 1, 1],\n",
      "             mask=[False, False, False, False, False, False, False, False],\n",
      "       fill_value='?',\n",
      "            dtype=object), 'param_max_iter': masked_array(data=[3, 3, 8, 8, 3, 3, 8, 8],\n",
      "             mask=[False, False, False, False, False, False, False, False],\n",
      "       fill_value='?',\n",
      "            dtype=object), 'param_max_leaf_nodes': masked_array(data=[15, 31, 15, 31, 15, 31, 15, 31],\n",
      "             mask=[False, False, False, False, False, False, False, False],\n",
      "       fill_value='?',\n",
      "            dtype=object), 'params': [{'learning_rate': 0.01, 'max_iter': 3, 'max_leaf_nodes': 15}, {'learning_rate': 0.01, 'max_iter': 3, 'max_leaf_nodes': 31}, {'learning_rate': 0.01, 'max_iter': 8, 'max_leaf_nodes': 15}, {'learning_rate': 0.01, 'max_iter': 8, 'max_leaf_nodes': 31}, {'learning_rate': 1, 'max_iter': 3, 'max_leaf_nodes': 15}, {'learning_rate': 1, 'max_iter': 3, 'max_leaf_nodes': 31}, {'learning_rate': 1, 'max_iter': 8, 'max_leaf_nodes': 15}, {'learning_rate': 1, 'max_iter': 8, 'max_leaf_nodes': 31}], 'split0_test_score': array([-0.16328969, -0.15374515, -0.10387543, -0.0926793 ,  0.3747449 ,\n",
      "        0.41473102,  0.4722181 ,  0.62115007]), 'split1_test_score': array([0.01605327, 0.01618719, 0.06870457, 0.07340283, 0.59739633,\n",
      "       0.53686361, 0.58099028, 0.54557333]), 'split2_test_score': array([-0.06387227, -0.06254963, -0.00250689,  0.00542975,  0.62844641,\n",
      "        0.6604598 ,  0.64568324,  0.64263767]), 'split3_test_score': array([-0.04571158, -0.03956221, -0.00264975,  0.00615899,  0.51154148,\n",
      "        0.46625005,  0.5827553 ,  0.31826192]), 'split4_test_score': array([-0.00113224,  0.00173298,  0.05497561,  0.05803782,  0.57975032,\n",
      "        0.60610603,  0.61648689,  0.5531594 ]), 'mean_test_score': array([-0.0515905 , -0.04758736,  0.00292962,  0.01007002,  0.53837589,\n",
      "        0.5368821 ,  0.57962676,  0.53615648]), 'std_test_score': array([0.06290283, 0.06009565, 0.06083278, 0.05814844, 0.09033619,\n",
      "       0.08941272, 0.05877141, 0.11525448]), 'rank_test_score': array([8, 7, 6, 5, 2, 3, 1, 4])}, 'n_splits_': 5}\n",
      "{'learning_rate': 1, 'max_iter': 8, 'max_leaf_nodes': 15}\n",
      "8\n",
      "{'scoring': None, 'estimator': HistGradientBoostingRegressor(early_stopping=True, max_iter=1000), 'n_jobs': None, 'refit': True, 'cv': None, 'verbose': 0, 'pre_dispatch': '2*n_jobs', 'error_score': nan, 'return_train_score': False, 'param_grid': {'max_iter': [3, 8], 'max_leaf_nodes': [15, 31], 'learning_rate': [0.01, 1]}, 'multimetric_': False, 'best_index_': 6, 'best_score_': 0.5893808014305317, 'best_params_': {'learning_rate': 1, 'max_iter': 8, 'max_leaf_nodes': 15}, 'best_estimator_': HistGradientBoostingRegressor(early_stopping=True, learning_rate=1, max_iter=8,\n",
      "                              max_leaf_nodes=15), 'refit_time_': 0.027708768844604492, 'feature_names_in_': array(['MedInc', 'HouseAge', 'AveRooms', 'AveBedrms', 'Population',\n",
      "       'AveOccup', 'Latitude', 'Longitude'], dtype=object), 'scorer_': <sklearn.metrics._scorer._PassthroughScorer object at 0x0000017812D4F430>, 'cv_results_': {'mean_fit_time': array([0.01735768, 0.02084188, 0.02451458, 0.0312264 , 0.01421232,\n",
      "       0.02073011, 0.01788974, 0.0302424 ]), 'std_fit_time': array([0.00091392, 0.00170575, 0.00180533, 0.0027314 , 0.00646394,\n",
      "       0.00888099, 0.0068409 , 0.00284129]), 'mean_score_time': array([0.00132141, 0.00150042, 0.0014595 , 0.00433626, 0.00139861,\n",
      "       0.00415664, 0.        , 0.00052214]), 'std_score_time': array([0.00036023, 0.00052366, 0.00085003, 0.00611451, 0.00279722,\n",
      "       0.00578695, 0.        , 0.00067622]), 'param_learning_rate': masked_array(data=[0.01, 0.01, 0.01, 0.01, 1, 1, 1, 1],\n",
      "             mask=[False, False, False, False, False, False, False, False],\n",
      "       fill_value='?',\n",
      "            dtype=object), 'param_max_iter': masked_array(data=[3, 3, 8, 8, 3, 3, 8, 8],\n",
      "             mask=[False, False, False, False, False, False, False, False],\n",
      "       fill_value='?',\n",
      "            dtype=object), 'param_max_leaf_nodes': masked_array(data=[15, 31, 15, 31, 15, 31, 15, 31],\n",
      "             mask=[False, False, False, False, False, False, False, False],\n",
      "       fill_value='?',\n",
      "            dtype=object), 'params': [{'learning_rate': 0.01, 'max_iter': 3, 'max_leaf_nodes': 15}, {'learning_rate': 0.01, 'max_iter': 3, 'max_leaf_nodes': 31}, {'learning_rate': 0.01, 'max_iter': 8, 'max_leaf_nodes': 15}, {'learning_rate': 0.01, 'max_iter': 8, 'max_leaf_nodes': 31}, {'learning_rate': 1, 'max_iter': 3, 'max_leaf_nodes': 15}, {'learning_rate': 1, 'max_iter': 3, 'max_leaf_nodes': 31}, {'learning_rate': 1, 'max_iter': 8, 'max_leaf_nodes': 15}, {'learning_rate': 1, 'max_iter': 8, 'max_leaf_nodes': 31}], 'split0_test_score': array([-0.17573157, -0.17354919, -0.10602689, -0.10228582,  0.370471  ,\n",
      "        0.47159109,  0.51757309,  0.36131653]), 'split1_test_score': array([0.00708416, 0.0071078 , 0.05694601, 0.06394179, 0.60583791,\n",
      "       0.65153363, 0.64099336, 0.53862151]), 'split2_test_score': array([-0.0408123 , -0.0381049 ,  0.02092106,  0.02249878,  0.63226128,\n",
      "        0.66288021,  0.67807999,  0.6447517 ]), 'split3_test_score': array([-0.04288374, -0.03062361, -0.00792574,  0.01203955,  0.44344403,\n",
      "        0.47269416,  0.50383421,  0.55918358]), 'split4_test_score': array([-0.00710731, -0.006868  ,  0.04645362,  0.04726068,  0.53333388,\n",
      "        0.60278971,  0.60642336,  0.58033339]), 'mean_test_score': array([-0.05189015, -0.04840758,  0.00207361,  0.008691  ,  0.51706962,\n",
      "        0.57229776,  0.5893808 ,  0.53684134]), 'std_test_score': array([0.06484443, 0.06463796, 0.05851752, 0.05840889, 0.09831107,\n",
      "       0.08423298, 0.06825894, 0.09470745]), 'rank_test_score': array([8, 7, 6, 5, 4, 2, 1, 3])}, 'n_splits_': 5}\n",
      "{'learning_rate': 1, 'max_iter': 8, 'max_leaf_nodes': 15}\n",
      "8\n",
      "{'scoring': None, 'estimator': HistGradientBoostingRegressor(early_stopping=True, max_iter=1000), 'n_jobs': None, 'refit': True, 'cv': None, 'verbose': 0, 'pre_dispatch': '2*n_jobs', 'error_score': nan, 'return_train_score': False, 'param_grid': {'max_iter': [3, 8], 'max_leaf_nodes': [15, 31], 'learning_rate': [0.01, 1]}, 'multimetric_': False, 'best_index_': 6, 'best_score_': 0.5794147092199725, 'best_params_': {'learning_rate': 1, 'max_iter': 8, 'max_leaf_nodes': 15}, 'best_estimator_': HistGradientBoostingRegressor(early_stopping=True, learning_rate=1, max_iter=8,\n",
      "                              max_leaf_nodes=15), 'refit_time_': 0.03171253204345703, 'feature_names_in_': array(['MedInc', 'HouseAge', 'AveRooms', 'AveBedrms', 'Population',\n",
      "       'AveOccup', 'Latitude', 'Longitude'], dtype=object), 'scorer_': <sklearn.metrics._scorer._PassthroughScorer object at 0x0000017812DAFA00>, 'cv_results_': {'mean_fit_time': array([0.01611838, 0.02308507, 0.02046437, 0.03442063, 0.01552491,\n",
      "       0.02018204, 0.02420926, 0.03062882]), 'std_fit_time': array([0.00546099, 0.00437568, 0.00609925, 0.00579817, 0.00679937,\n",
      "       0.00394117, 0.00715755, 0.00313048]), 'mean_score_time': array([0.00503712, 0.00177612, 0.00553422, 0.        , 0.00021615,\n",
      "       0.        , 0.        , 0.        ]), 'std_score_time': array([0.00646361, 0.0021823 , 0.00687289, 0.        , 0.0004323 ,\n",
      "       0.        , 0.        , 0.        ]), 'param_learning_rate': masked_array(data=[0.01, 0.01, 0.01, 0.01, 1, 1, 1, 1],\n",
      "             mask=[False, False, False, False, False, False, False, False],\n",
      "       fill_value='?',\n",
      "            dtype=object), 'param_max_iter': masked_array(data=[3, 3, 8, 8, 3, 3, 8, 8],\n",
      "             mask=[False, False, False, False, False, False, False, False],\n",
      "       fill_value='?',\n",
      "            dtype=object), 'param_max_leaf_nodes': masked_array(data=[15, 31, 15, 31, 15, 31, 15, 31],\n",
      "             mask=[False, False, False, False, False, False, False, False],\n",
      "       fill_value='?',\n",
      "            dtype=object), 'params': [{'learning_rate': 0.01, 'max_iter': 3, 'max_leaf_nodes': 15}, {'learning_rate': 0.01, 'max_iter': 3, 'max_leaf_nodes': 31}, {'learning_rate': 0.01, 'max_iter': 8, 'max_leaf_nodes': 15}, {'learning_rate': 0.01, 'max_iter': 8, 'max_leaf_nodes': 31}, {'learning_rate': 1, 'max_iter': 3, 'max_leaf_nodes': 15}, {'learning_rate': 1, 'max_iter': 3, 'max_leaf_nodes': 31}, {'learning_rate': 1, 'max_iter': 8, 'max_leaf_nodes': 15}, {'learning_rate': 1, 'max_iter': 8, 'max_leaf_nodes': 31}], 'split0_test_score': array([-0.19892425, -0.19000634, -0.13097262, -0.1208208 ,  0.33473607,\n",
      "        0.42689145,  0.45703003,  0.47552549]), 'split1_test_score': array([3.77866091e-04, 4.51408306e-03, 5.12363849e-02, 6.43335168e-02,\n",
      "       5.87123498e-01, 5.98500778e-01, 6.51647209e-01, 6.26496157e-01]), 'split2_test_score': array([-0.05056217, -0.04728405,  0.01328285,  0.01885456,  0.62879871,\n",
      "        0.66422708,  0.68211839,  0.64007139]), 'split3_test_score': array([-0.04855354, -0.04455566, -0.01085207,  0.00462117,  0.44156658,\n",
      "        0.48419222,  0.51677188,  0.50975644]), 'split4_test_score': array([-0.00581225, -0.00068754,  0.04887526,  0.05864435,  0.55318068,\n",
      "        0.56378779,  0.58950604,  0.5666228 ]), 'mean_test_score': array([-0.06069487, -0.0556039 , -0.00568604,  0.00512656,  0.50908111,\n",
      "        0.54751986,  0.57941471,  0.56369445]), 'std_test_score': array([0.07224877, 0.07054825, 0.06678373, 0.06696427, 0.10707203,\n",
      "       0.08372082, 0.08339011, 0.06398303]), 'rank_test_score': array([8, 7, 6, 5, 4, 3, 1, 2])}, 'n_splits_': 5}\n",
      "{'learning_rate': 1, 'max_iter': 8, 'max_leaf_nodes': 15}\n",
      "8\n"
     ]
    }
   ],
   "source": [
    "for est in cv_results[\"estimator\"]:\n",
    "    print(vars(est))\n",
    "    print(est.best_params_)\n",
    "    print(est.best_estimator_.n_iter_)"
   ]
  },
  {
   "cell_type": "code",
   "execution_count": 67,
   "id": "94275edc",
   "metadata": {},
   "outputs": [
    {
     "name": "stdout",
     "output_type": "stream",
     "text": [
      "{'mean_fit_time': array([0.02067242, 0.02072248, 0.0264823 , 0.03432555, 0.02060928,\n",
      "       0.02172332, 0.02303886, 0.03221464]), 'std_fit_time': array([0.00462495, 0.00218255, 0.00264047, 0.00648745, 0.00301099,\n",
      "       0.00145593, 0.00174882, 0.00589056]), 'mean_score_time': array([0.00363379, 0.        , 0.00227489, 0.00145063, 0.00151005,\n",
      "       0.0018271 , 0.00234232, 0.00258541]), 'std_score_time': array([0.00448707, 0.        , 0.00064044, 0.00077473, 0.00090279,\n",
      "       0.00228911, 0.00288058, 0.00200318]), 'param_learning_rate': masked_array(data=[0.01, 0.01, 0.01, 0.01, 1, 1, 1, 1],\n",
      "             mask=[False, False, False, False, False, False, False, False],\n",
      "       fill_value='?',\n",
      "            dtype=object), 'param_max_iter': masked_array(data=[3, 3, 8, 8, 3, 3, 8, 8],\n",
      "             mask=[False, False, False, False, False, False, False, False],\n",
      "       fill_value='?',\n",
      "            dtype=object), 'param_max_leaf_nodes': masked_array(data=[15, 31, 15, 31, 15, 31, 15, 31],\n",
      "             mask=[False, False, False, False, False, False, False, False],\n",
      "       fill_value='?',\n",
      "            dtype=object), 'params': [{'learning_rate': 0.01, 'max_iter': 3, 'max_leaf_nodes': 15}, {'learning_rate': 0.01, 'max_iter': 3, 'max_leaf_nodes': 31}, {'learning_rate': 0.01, 'max_iter': 8, 'max_leaf_nodes': 15}, {'learning_rate': 0.01, 'max_iter': 8, 'max_leaf_nodes': 31}, {'learning_rate': 1, 'max_iter': 3, 'max_leaf_nodes': 15}, {'learning_rate': 1, 'max_iter': 3, 'max_leaf_nodes': 31}, {'learning_rate': 1, 'max_iter': 8, 'max_leaf_nodes': 15}, {'learning_rate': 1, 'max_iter': 8, 'max_leaf_nodes': 31}], 'split0_test_score': array([-0.17255806, -0.17207605, -0.10692536, -0.10170725,  0.44502365,\n",
      "        0.4893991 ,  0.50346803,  0.39171697]), 'split1_test_score': array([0.01164263, 0.01255501, 0.06350786, 0.06926114, 0.61745402,\n",
      "       0.66082875, 0.51891401, 0.608866  ]), 'split2_test_score': array([-0.06065384, -0.05722397,  0.00136883,  0.00808519,  0.64650923,\n",
      "        0.63189318,  0.66831421,  0.64960555]), 'split3_test_score': array([-5.54608018e-02, -4.80580704e-02, -1.10844401e-02, -2.92253415e-04,\n",
      "        5.71245469e-01,  5.66284570e-01,  6.69463202e-01,  6.04203430e-01]), 'split4_test_score': array([-0.00787402, -0.0061661 ,  0.04865806,  0.05229337,  0.54344236,\n",
      "        0.58513006,  0.5353379 ,  0.59735538]), 'mean_test_score': array([-0.05698082, -0.05419383, -0.00089501,  0.00552804,  0.56473494,\n",
      "        0.58670713,  0.57909947,  0.57034946]), 'std_test_score': array([0.06402274, 0.06435078, 0.05992432, 0.05964684, 0.0697035 ,\n",
      "       0.05903256, 0.07400318, 0.09115923]), 'rank_test_score': array([8, 7, 6, 5, 4, 1, 2, 3])}\n"
     ]
    }
   ],
   "source": [
    "# print(vars(cv_results[\"estimator\"][0].cv_results_))\n",
    "print(cv_results[\"estimator\"][0].cv_results_)"
   ]
  },
  {
   "cell_type": "markdown",
   "id": "b288ff7e",
   "metadata": {},
   "source": [
    "Inspect the results of the inner CV for each estimator of the outer CV.\n",
    "Aggregate the mean test score for each parameter combination and make a box\n",
    "plot of these scores."
   ]
  },
  {
   "cell_type": "code",
   "execution_count": 68,
   "id": "7b1224dd",
   "metadata": {},
   "outputs": [
    {
     "data": {
      "image/png": "[encoded data removed]",
      "text/plain": [
       "<Figure size 640x480 with 1 Axes>"
      ]
     },
     "metadata": {},
     "output_type": "display_data"
    }
   ],
   "source": [
    "import pandas as pd\n",
    "\n",
    "index_columns = [f\"param_{name}\" for name in param_distributions.keys()]\n",
    "columns = index_columns + [\"mean_test_score\"]\n",
    "\n",
    "inner_cv_results = []\n",
    "for cv_idx, estimator in enumerate(cv_results[\"estimator\"]):\n",
    "    search_cv_results = pd.DataFrame(estimator.cv_results_)\n",
    "    search_cv_results = search_cv_results[columns].set_index(index_columns)\n",
    "    search_cv_results = search_cv_results.rename(\n",
    "        columns={\"mean_test_score\": f\"CV {cv_idx}\"}\n",
    "    )\n",
    "    inner_cv_results.append(search_cv_results)\n",
    "inner_cv_results = pd.concat(inner_cv_results, axis=1).T\n",
    "\n",
    "import matplotlib.pyplot as plt\n",
    "\n",
    "color = {\"whiskers\": \"black\", \"medians\": \"black\", \"caps\": \"black\"}\n",
    "inner_cv_results.plot.box(vert=False, color=color)\n",
    "plt.xlabel(\"R2 score\")\n",
    "plt.ylabel(\"Parameters\")\n",
    "_ = plt.title(\n",
    "    \"Inner CV results with parameters\\n\"\n",
    "    \"(max_depth, max_leaf_nodes, learning_rate)\"\n",
    ")\n"
   ]
  }
 ],
 "metadata": {
  "jupytext": {
   "main_language": "python"
  },
  "kernelspec": {
   "display_name": "Python 3 (ipykernel)",
   "language": "python",
   "name": "python3"
  },
  "language_info": {
   "codemirror_mode": {
    "name": "ipython",
    "version": 3
   },
   "file_extension": ".py",
   "mimetype": "text/x-python",
   "name": "python",
   "nbconvert_exporter": "python",
   "pygments_lexer": "ipython3",
   "version": "3.9.11"
  },
  "nbreset": "https://raw.githubusercontent.com/INRIA/scikit-learn-mooc/main/notebooks/ensemble_ex_04.ipynb"
 },
 "nbformat": 4,
 "nbformat_minor": 5
}
