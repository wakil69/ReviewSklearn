{
 "cells": [
  {
   "cell_type": "markdown",
   "id": "eecdfb3d",
   "metadata": {},
   "source": [
    "# 📝 Exercise M3.01\n",
    "\n",
    "The goal is to write an exhaustive search to find the best parameters\n",
    "combination maximizing the model generalization performance.\n",
    "\n",
    "Here we use a small subset of the Adult Census dataset to make the code faster\n",
    "to execute. Once your code works on the small subset, try to change\n",
    "`train_size` to a larger value (e.g. 0.8 for 80% instead of 20%)."
   ]
  },
  {
   "cell_type": "code",
   "execution_count": 5,
   "id": "e761d5f4",
   "metadata": {},
   "outputs": [
    {
     "name": "stdout",
     "output_type": "stream",
     "text": [
      "0.19999181032717742 0.8000081896728226\n"
     ]
    }
   ],
   "source": [
    "import pandas as pd\n",
    "\n",
    "from sklearn.model_selection import train_test_split\n",
    "\n",
    "adult_census = pd.read_csv(\"../datasets/adult-census.csv\")\n",
    "\n",
    "target_name = \"class\"\n",
    "target = adult_census[target_name]\n",
    "data = adult_census.drop(columns=[target_name, \"education-num\"])\n",
    "\n",
    "data_train, data_test, target_train, target_test = train_test_split(\n",
    "    data, target, train_size=0.2, random_state=42\n",
    ")\n",
    "\n",
    "print(len(data_train)/(len(data_train) + len(data_test)), len(data_test)/(len(data_train) + len(data_test))) \n",
    "# 20%, 80%"
   ]
  },
  {
   "cell_type": "code",
   "execution_count": 6,
   "id": "10ad1cc3",
   "metadata": {},
   "outputs": [],
   "source": [
    "from sklearn.compose import ColumnTransformer\n",
    "from sklearn.compose import make_column_selector as selector\n",
    "from sklearn.preprocessing import OrdinalEncoder\n",
    "\n",
    "categorical_preprocessor = OrdinalEncoder(\n",
    "    handle_unknown=\"use_encoded_value\", unknown_value=-1\n",
    ")\n",
    "\n",
    "#ColumnTransformer : Applies transformers to columns of an array or pandas DataFrame.\n",
    "preprocessor = ColumnTransformer(\n",
    "    [\n",
    "        (\n",
    "            \"cat_preprocessor\",\n",
    "            categorical_preprocessor,\n",
    "            selector(dtype_include=object),\n",
    "        )\n",
    "    ],\n",
    "    remainder=\"passthrough\",\n",
    ")\n",
    "\n",
    "from sklearn.ensemble import HistGradientBoostingClassifier\n",
    "from sklearn.pipeline import Pipeline\n",
    "\n",
    "model = Pipeline(\n",
    "    [\n",
    "        (\"preprocessor\", preprocessor),\n",
    "        (\"classifier\", HistGradientBoostingClassifier(random_state=42)),\n",
    "    ]\n",
    ")"
   ]
  },
  {
   "cell_type": "markdown",
   "id": "5b742a6d",
   "metadata": {},
   "source": [
    "Use the previously defined model (called `model`) and using two nested `for`\n",
    "loops, make a search of the best combinations of the `learning_rate` and\n",
    "`max_leaf_nodes` parameters. In this regard, you have to train and test the\n",
    "model by setting the parameters. The evaluation of the model should be\n",
    "performed using `cross_val_score` on the training set. Use the following\n",
    "parameters search:\n",
    "- `learning_rate` for the values 0.01, 0.1, 1 and 10. This parameter controls\n",
    "  the ability of a new tree to correct the error of the previous sequence of\n",
    "  trees\n",
    "- `max_leaf_nodes` for the values 3, 10, 30. This parameter controls the depth\n",
    "  of each tree."
   ]
  },
  {
   "cell_type": "code",
   "execution_count": 8,
   "id": "d1244e27",
   "metadata": {},
   "outputs": [
    {
     "name": "stdout",
     "output_type": "stream",
     "text": [
      "0.8634318983313601 {'learning_rate': 0.1, 'max_leaf_node': 10}\n"
     ]
    }
   ],
   "source": [
    "from itertools import product\n",
    "from sklearn.model_selection import cross_val_score\n",
    "\n",
    "learning_rates = [0.01, 0.1, 1, 10]\n",
    "max_leaf_nodes = [3, 10, 30]\n",
    "\n",
    "best_score = 0\n",
    "best_params = {}\n",
    "\n",
    "for lr, max_leaf_node in product(learning_rates, max_leaf_nodes):\n",
    "    model.set_params(\n",
    "            classifier__learning_rate=lr, classifier__max_leaf_nodes=max_leaf_node\n",
    "        )\n",
    "    cv_scores = cross_val_score(model, data_train, target_train) #default scoring is loss for HistGradientBoostingClassifier\n",
    "    avg_scores = cv_scores.mean()\n",
    "    if (avg_scores > best_score):\n",
    "        best_score = avg_scores\n",
    "        best_params[\"learning_rate\"] = lr\n",
    "        best_params[\"max_leaf_node\"] = max_leaf_node\n",
    "\n",
    "print(best_score, best_params)"
   ]
  },
  {
   "cell_type": "markdown",
   "id": "49355a1f",
   "metadata": {},
   "source": [
    "Now use the test set to score the model using the best parameters that we\n",
    "found using cross-validation. You will have to refit the model over the full\n",
    "training set."
   ]
  },
  {
   "cell_type": "code",
   "execution_count": 10,
   "id": "00e8b879",
   "metadata": {},
   "outputs": [
    {
     "name": "stdout",
     "output_type": "stream",
     "text": [
      "0.8695807954138302\n"
     ]
    }
   ],
   "source": [
    "best_score_test = 0\n",
    "best_params_test = {}\n",
    "\n",
    "model.set_params(\n",
    "        classifier__learning_rate=best_params[\"learning_rate\"], classifier__max_leaf_nodes=best_params[\"max_leaf_node\"]\n",
    "    )\n",
    "\n",
    "model.fit(data_train, target_train)\n",
    "score = model.score(data_test, target_test)\n",
    "    \n",
    "print(score)"
   ]
  }
 ],
 "metadata": {
  "jupytext": {
   "main_language": "python"
  },
  "kernelspec": {
   "display_name": "Python 3 (ipykernel)",
   "language": "python",
   "name": "python3"
  },
  "language_info": {
   "codemirror_mode": {
    "name": "ipython",
    "version": 3
   },
   "file_extension": ".py",
   "mimetype": "text/x-python",
   "name": "python",
   "nbconvert_exporter": "python",
   "pygments_lexer": "ipython3",
   "version": "3.9.11"
  },
  "nbreset": "https://raw.githubusercontent.com/INRIA/scikit-learn-mooc/main/notebooks/parameter_tuning_ex_02.ipynb"
 },
 "nbformat": 4,
 "nbformat_minor": 5
}
