{
 "cells": [
  {
   "cell_type": "markdown",
   "id": "6e8714bb",
   "metadata": {},
   "source": [
    "# 📝 Exercise M7.03\n",
    "\n",
    "As with the classification metrics exercise, we will evaluate the regression\n",
    "metrics within a cross-validation framework to get familiar with the syntax.\n",
    "\n",
    "We will use the Ames house prices dataset."
   ]
  },
  {
   "cell_type": "code",
   "execution_count": 7,
   "id": "15d97b04",
   "metadata": {},
   "outputs": [],
   "source": [
    "import pandas as pd\n",
    "import numpy as np\n",
    "\n",
    "ames_housing = pd.read_csv(\"../datasets/house_prices.csv\")\n",
    "data = ames_housing.drop(columns=\"SalePrice\")\n",
    "target = ames_housing[\"SalePrice\"]\n",
    "data = data.select_dtypes(np.number)\n",
    "target /= 1000"
   ]
  },
  {
   "cell_type": "markdown",
   "id": "85d5e679",
   "metadata": {
    "lines_to_next_cell": 2
   },
   "source": [
    "<div class=\"admonition note alert alert-info\">\n",
    "<p class=\"first admonition-title\" style=\"font-weight: bold;\">Note</p>\n",
    "<p class=\"last\">If you want a deeper overview regarding this dataset, you can refer to the\n",
    "Appendix - Datasets description section at the end of this MOOC.</p>\n",
    "</div>"
   ]
  },
  {
   "cell_type": "markdown",
   "id": "35485736",
   "metadata": {},
   "source": [
    "The first step will be to create a linear regression model."
   ]
  },
  {
   "cell_type": "code",
   "execution_count": 8,
   "id": "af12d93f",
   "metadata": {},
   "outputs": [],
   "source": [
    "from sklearn.linear_model import LinearRegression\n",
    "\n",
    "linear = LinearRegression()"
   ]
  },
  {
   "cell_type": "markdown",
   "id": "c38f6099",
   "metadata": {},
   "source": [
    "Then, use the `cross_val_score` to estimate the generalization performance of\n",
    "the model. Use a `KFold` cross-validation with 10 folds. Make the use of the\n",
    "$R^2$ score explicit by assigning the parameter `scoring` (even though it is\n",
    "the default score)."
   ]
  },
  {
   "cell_type": "code",
   "execution_count": 9,
   "id": "74afa04d",
   "metadata": {},
   "outputs": [],
   "source": [
    "from sklearn.model_selection import cross_val_score\n",
    "from sklearn.model_selection import KFold\n",
    "\n",
    "cv = KFold()\n",
    "\n",
    "cv_scores = cross_val_score(linear, data, target, cv=cv, scoring=\"r2\")\n"
   ]
  },
  {
   "cell_type": "markdown",
   "id": "4b3ce510",
   "metadata": {},
   "source": [
    "Then, instead of using the $R^2$ score, use the mean absolute error. You need\n",
    "to refer to the documentation for the `scoring` parameter."
   ]
  },
  {
   "cell_type": "code",
   "execution_count": 12,
   "id": "cc862cfa",
   "metadata": {},
   "outputs": [],
   "source": [
    "cv_scores = cross_val_score(linear, data, target, cv=cv, scoring=\"neg_mean_absolute_error\")\n"
   ]
  },
  {
   "cell_type": "markdown",
   "id": "a8a390dc",
   "metadata": {},
   "source": [
    "Finally, use the `cross_validate` function and compute multiple scores/errors\n",
    "at once by passing a list of scorers to the `scoring` parameter. You can\n",
    "compute the $R^2$ score and the mean absolute error for instance."
   ]
  },
  {
   "cell_type": "code",
   "execution_count": 15,
   "id": "4a8da901",
   "metadata": {},
   "outputs": [
    {
     "data": {
      "text/plain": [
       "{'fit_time': array([0.01921105, 0.01672792, 0.01995134, 0.01829076, 0.01634836]),\n",
       " 'score_time': array([0.0051868 , 0.00751209, 0.00460005, 0.0080204 , 0.00326204]),\n",
       " 'test_neg_mean_absolute_error': array([-21.25679878, -22.08408336, -22.11336719, -20.44827895,\n",
       "        -24.37034064]),\n",
       " 'test_neg_mean_squared_error': array([ -836.97217812, -1206.54721972, -1413.16077852,  -941.55030953,\n",
       "        -2430.87952738]),\n",
       " 'test_neg_mean_absolute_percentage_error': array([-0.12451987, -0.13837998, -0.12663902, -0.12690628, -0.14102181])}"
      ]
     },
     "execution_count": 15,
     "metadata": {},
     "output_type": "execute_result"
    }
   ],
   "source": [
    "from sklearn.model_selection import cross_validate\n",
    "\n",
    "cv_results = cross_validate(linear, data, target, cv=cv, scoring=[\"neg_mean_absolute_error\", \"neg_mean_squared_error\", \"neg_mean_absolute_percentage_error\"])\n",
    "\n",
    "cv_results"
   ]
  }
 ],
 "metadata": {
  "jupytext": {
   "main_language": "python"
  },
  "kernelspec": {
   "display_name": "Python 3 (ipykernel)",
   "language": "python",
   "name": "python3"
  },
  "language_info": {
   "codemirror_mode": {
    "name": "ipython",
    "version": 3
   },
   "file_extension": ".py",
   "mimetype": "text/x-python",
   "name": "python",
   "nbconvert_exporter": "python",
   "pygments_lexer": "ipython3",
   "version": "3.9.11"
  },
  "nbreset": "https://raw.githubusercontent.com/INRIA/scikit-learn-mooc/main/notebooks/metrics_ex_02.ipynb"
 },
 "nbformat": 4,
 "nbformat_minor": 5
}
