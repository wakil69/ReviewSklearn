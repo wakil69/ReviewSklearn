{
 "cells": [
  {
   "cell_type": "markdown",
   "id": "aace774b",
   "metadata": {},
   "source": [
    "# 📝 Exercise M7.02\n",
    "\n",
    "We presented different classification metrics in the previous notebook.\n",
    "However, we did not use it with a cross-validation. This exercise aims at\n",
    "practicing and implementing cross-validation.\n",
    "\n",
    "We will reuse the blood transfusion dataset."
   ]
  },
  {
   "cell_type": "code",
   "execution_count": 37,
   "id": "80418900",
   "metadata": {},
   "outputs": [],
   "source": [
    "import pandas as pd\n",
    "\n",
    "blood_transfusion = pd.read_csv(\"../datasets/blood_transfusion.csv\")\n",
    "data = blood_transfusion.drop(columns=\"Class\")\n",
    "target = blood_transfusion[\"Class\"]"
   ]
  },
  {
   "cell_type": "markdown",
   "id": "9d795686",
   "metadata": {},
   "source": [
    "<div class=\"admonition note alert alert-info\">\n",
    "<p class=\"first admonition-title\" style=\"font-weight: bold;\">Note</p>\n",
    "<p class=\"last\">If you want a deeper overview regarding this dataset, you can refer to the\n",
    "Appendix - Datasets description section at the end of this MOOC.</p>\n",
    "</div>"
   ]
  },
  {
   "cell_type": "markdown",
   "id": "24111c9f",
   "metadata": {},
   "source": [
    "First, create a decision tree classifier."
   ]
  },
  {
   "cell_type": "code",
   "execution_count": 38,
   "id": "8b7274b3",
   "metadata": {},
   "outputs": [],
   "source": [
    "from sklearn.tree import DecisionTreeClassifier\n",
    "\n",
    "tree = DecisionTreeClassifier()"
   ]
  },
  {
   "cell_type": "markdown",
   "id": "b6c8646a",
   "metadata": {},
   "source": [
    "Create a `StratifiedKFold` cross-validation object. Then use it inside the\n",
    "`cross_val_score` function to evaluate the decision tree. We will first use\n",
    "the accuracy as a score function. Explicitly use the `scoring` parameter of\n",
    "`cross_val_score` to compute the accuracy (even if this is the default score).\n",
    "Check its documentation to learn how to do that."
   ]
  },
  {
   "cell_type": "code",
   "execution_count": 39,
   "id": "39968791",
   "metadata": {},
   "outputs": [],
   "source": [
    "from sklearn.model_selection import StratifiedKFold\n",
    "from sklearn.model_selection import cross_val_score\n",
    "\n",
    "cv = StratifiedKFold()\n",
    "\n",
    "cv_score = cross_val_score(tree, data, target, cv=cv, scoring=\"accuracy\")"
   ]
  },
  {
   "cell_type": "markdown",
   "id": "9a1aad43",
   "metadata": {},
   "source": [
    "Repeat the experiment by computing the `balanced_accuracy`."
   ]
  },
  {
   "cell_type": "code",
   "execution_count": 40,
   "id": "2a52e337",
   "metadata": {},
   "outputs": [],
   "source": [
    "cv_score = cross_val_score(tree, data, target, cv=cv, scoring=\"balanced_accuracy\")"
   ]
  },
  {
   "cell_type": "markdown",
   "id": "e1d15842",
   "metadata": {},
   "source": [
    "We will now add a bit of complexity. We would like to compute the precision of\n",
    "our model. However, during the course we saw that we need to mention the\n",
    "positive label which in our case we consider to be the class `donated`.\n",
    "\n",
    "We will show that computing the precision without providing the positive label\n",
    "will not be supported by scikit-learn because it is indeed ambiguous."
   ]
  },
  {
   "cell_type": "code",
   "execution_count": 41,
   "id": "e1f125a6",
   "metadata": {},
   "outputs": [
    {
     "name": "stderr",
     "output_type": "stream",
     "text": [
      "C:\\Users\\awben\\AppData\\Roaming\\Python\\Python39\\site-packages\\sklearn\\model_selection\\_validation.py:1011: UserWarning: Scoring failed. The score on this train-test partition for these parameters will be set to nan. Details: \n",
      "Traceback (most recent call last):\n",
      "  File \"C:\\Users\\awben\\AppData\\Roaming\\Python\\Python39\\site-packages\\sklearn\\metrics\\_scorer.py\", line 137, in __call__\n",
      "    score = scorer._score(\n",
      "  File \"C:\\Users\\awben\\AppData\\Roaming\\Python\\Python39\\site-packages\\sklearn\\metrics\\_scorer.py\", line 345, in _score\n",
      "    y_pred = method_caller(\n",
      "  File \"C:\\Users\\awben\\AppData\\Roaming\\Python\\Python39\\site-packages\\sklearn\\metrics\\_scorer.py\", line 87, in _cached_call\n",
      "    result, _ = _get_response_values(\n",
      "  File \"C:\\Users\\awben\\AppData\\Roaming\\Python\\Python39\\site-packages\\sklearn\\utils\\_response.py\", line 203, in _get_response_values\n",
      "    raise ValueError(\n",
      "ValueError: pos_label=1 is not a valid label: It should be one of ['donated' 'not donated']\n",
      "\n",
      "  warnings.warn(\n",
      "C:\\Users\\awben\\AppData\\Roaming\\Python\\Python39\\site-packages\\sklearn\\model_selection\\_validation.py:1011: UserWarning: Scoring failed. The score on this train-test partition for these parameters will be set to nan. Details: \n",
      "Traceback (most recent call last):\n",
      "  File \"C:\\Users\\awben\\AppData\\Roaming\\Python\\Python39\\site-packages\\sklearn\\metrics\\_scorer.py\", line 137, in __call__\n",
      "    score = scorer._score(\n",
      "  File \"C:\\Users\\awben\\AppData\\Roaming\\Python\\Python39\\site-packages\\sklearn\\metrics\\_scorer.py\", line 345, in _score\n",
      "    y_pred = method_caller(\n",
      "  File \"C:\\Users\\awben\\AppData\\Roaming\\Python\\Python39\\site-packages\\sklearn\\metrics\\_scorer.py\", line 87, in _cached_call\n",
      "    result, _ = _get_response_values(\n",
      "  File \"C:\\Users\\awben\\AppData\\Roaming\\Python\\Python39\\site-packages\\sklearn\\utils\\_response.py\", line 203, in _get_response_values\n",
      "    raise ValueError(\n",
      "ValueError: pos_label=1 is not a valid label: It should be one of ['donated' 'not donated']\n",
      "\n",
      "  warnings.warn(\n",
      "C:\\Users\\awben\\AppData\\Roaming\\Python\\Python39\\site-packages\\sklearn\\model_selection\\_validation.py:1011: UserWarning: Scoring failed. The score on this train-test partition for these parameters will be set to nan. Details: \n",
      "Traceback (most recent call last):\n",
      "  File \"C:\\Users\\awben\\AppData\\Roaming\\Python\\Python39\\site-packages\\sklearn\\metrics\\_scorer.py\", line 137, in __call__\n",
      "    score = scorer._score(\n",
      "  File \"C:\\Users\\awben\\AppData\\Roaming\\Python\\Python39\\site-packages\\sklearn\\metrics\\_scorer.py\", line 345, in _score\n",
      "    y_pred = method_caller(\n",
      "  File \"C:\\Users\\awben\\AppData\\Roaming\\Python\\Python39\\site-packages\\sklearn\\metrics\\_scorer.py\", line 87, in _cached_call\n",
      "    result, _ = _get_response_values(\n",
      "  File \"C:\\Users\\awben\\AppData\\Roaming\\Python\\Python39\\site-packages\\sklearn\\utils\\_response.py\", line 203, in _get_response_values\n",
      "    raise ValueError(\n",
      "ValueError: pos_label=1 is not a valid label: It should be one of ['donated' 'not donated']\n",
      "\n",
      "  warnings.warn(\n",
      "C:\\Users\\awben\\AppData\\Roaming\\Python\\Python39\\site-packages\\sklearn\\model_selection\\_validation.py:1011: UserWarning: Scoring failed. The score on this train-test partition for these parameters will be set to nan. Details: \n",
      "Traceback (most recent call last):\n",
      "  File \"C:\\Users\\awben\\AppData\\Roaming\\Python\\Python39\\site-packages\\sklearn\\metrics\\_scorer.py\", line 137, in __call__\n",
      "    score = scorer._score(\n",
      "  File \"C:\\Users\\awben\\AppData\\Roaming\\Python\\Python39\\site-packages\\sklearn\\metrics\\_scorer.py\", line 345, in _score\n",
      "    y_pred = method_caller(\n",
      "  File \"C:\\Users\\awben\\AppData\\Roaming\\Python\\Python39\\site-packages\\sklearn\\metrics\\_scorer.py\", line 87, in _cached_call\n",
      "    result, _ = _get_response_values(\n",
      "  File \"C:\\Users\\awben\\AppData\\Roaming\\Python\\Python39\\site-packages\\sklearn\\utils\\_response.py\", line 203, in _get_response_values\n",
      "    raise ValueError(\n",
      "ValueError: pos_label=1 is not a valid label: It should be one of ['donated' 'not donated']\n",
      "\n",
      "  warnings.warn(\n",
      "C:\\Users\\awben\\AppData\\Roaming\\Python\\Python39\\site-packages\\sklearn\\model_selection\\_validation.py:1011: UserWarning: Scoring failed. The score on this train-test partition for these parameters will be set to nan. Details: \n",
      "Traceback (most recent call last):\n",
      "  File \"C:\\Users\\awben\\AppData\\Roaming\\Python\\Python39\\site-packages\\sklearn\\metrics\\_scorer.py\", line 137, in __call__\n",
      "    score = scorer._score(\n",
      "  File \"C:\\Users\\awben\\AppData\\Roaming\\Python\\Python39\\site-packages\\sklearn\\metrics\\_scorer.py\", line 345, in _score\n",
      "    y_pred = method_caller(\n",
      "  File \"C:\\Users\\awben\\AppData\\Roaming\\Python\\Python39\\site-packages\\sklearn\\metrics\\_scorer.py\", line 87, in _cached_call\n",
      "    result, _ = _get_response_values(\n",
      "  File \"C:\\Users\\awben\\AppData\\Roaming\\Python\\Python39\\site-packages\\sklearn\\utils\\_response.py\", line 203, in _get_response_values\n",
      "    raise ValueError(\n",
      "ValueError: pos_label=1 is not a valid label: It should be one of ['donated' 'not donated']\n",
      "\n",
      "  warnings.warn(\n",
      "C:\\Users\\awben\\AppData\\Roaming\\Python\\Python39\\site-packages\\sklearn\\model_selection\\_validation.py:1011: UserWarning: Scoring failed. The score on this train-test partition for these parameters will be set to nan. Details: \n",
      "Traceback (most recent call last):\n",
      "  File \"C:\\Users\\awben\\AppData\\Roaming\\Python\\Python39\\site-packages\\sklearn\\metrics\\_scorer.py\", line 137, in __call__\n",
      "    score = scorer._score(\n",
      "  File \"C:\\Users\\awben\\AppData\\Roaming\\Python\\Python39\\site-packages\\sklearn\\metrics\\_scorer.py\", line 345, in _score\n",
      "    y_pred = method_caller(\n",
      "  File \"C:\\Users\\awben\\AppData\\Roaming\\Python\\Python39\\site-packages\\sklearn\\metrics\\_scorer.py\", line 87, in _cached_call\n",
      "    result, _ = _get_response_values(\n",
      "  File \"C:\\Users\\awben\\AppData\\Roaming\\Python\\Python39\\site-packages\\sklearn\\utils\\_response.py\", line 203, in _get_response_values\n",
      "    raise ValueError(\n",
      "ValueError: pos_label=1 is not a valid label: It should be one of ['donated' 'not donated']\n",
      "\n",
      "  warnings.warn(\n",
      "C:\\Users\\awben\\AppData\\Roaming\\Python\\Python39\\site-packages\\sklearn\\model_selection\\_validation.py:1011: UserWarning: Scoring failed. The score on this train-test partition for these parameters will be set to nan. Details: \n",
      "Traceback (most recent call last):\n",
      "  File \"C:\\Users\\awben\\AppData\\Roaming\\Python\\Python39\\site-packages\\sklearn\\metrics\\_scorer.py\", line 137, in __call__\n",
      "    score = scorer._score(\n",
      "  File \"C:\\Users\\awben\\AppData\\Roaming\\Python\\Python39\\site-packages\\sklearn\\metrics\\_scorer.py\", line 345, in _score\n",
      "    y_pred = method_caller(\n",
      "  File \"C:\\Users\\awben\\AppData\\Roaming\\Python\\Python39\\site-packages\\sklearn\\metrics\\_scorer.py\", line 87, in _cached_call\n",
      "    result, _ = _get_response_values(\n",
      "  File \"C:\\Users\\awben\\AppData\\Roaming\\Python\\Python39\\site-packages\\sklearn\\utils\\_response.py\", line 203, in _get_response_values\n",
      "    raise ValueError(\n",
      "ValueError: pos_label=1 is not a valid label: It should be one of ['donated' 'not donated']\n",
      "\n",
      "  warnings.warn(\n",
      "C:\\Users\\awben\\AppData\\Roaming\\Python\\Python39\\site-packages\\sklearn\\model_selection\\_validation.py:1011: UserWarning: Scoring failed. The score on this train-test partition for these parameters will be set to nan. Details: \n",
      "Traceback (most recent call last):\n",
      "  File \"C:\\Users\\awben\\AppData\\Roaming\\Python\\Python39\\site-packages\\sklearn\\metrics\\_scorer.py\", line 137, in __call__\n",
      "    score = scorer._score(\n",
      "  File \"C:\\Users\\awben\\AppData\\Roaming\\Python\\Python39\\site-packages\\sklearn\\metrics\\_scorer.py\", line 345, in _score\n",
      "    y_pred = method_caller(\n",
      "  File \"C:\\Users\\awben\\AppData\\Roaming\\Python\\Python39\\site-packages\\sklearn\\metrics\\_scorer.py\", line 87, in _cached_call\n",
      "    result, _ = _get_response_values(\n",
      "  File \"C:\\Users\\awben\\AppData\\Roaming\\Python\\Python39\\site-packages\\sklearn\\utils\\_response.py\", line 203, in _get_response_values\n",
      "    raise ValueError(\n",
      "ValueError: pos_label=1 is not a valid label: It should be one of ['donated' 'not donated']\n",
      "\n",
      "  warnings.warn(\n",
      "C:\\Users\\awben\\AppData\\Roaming\\Python\\Python39\\site-packages\\sklearn\\model_selection\\_validation.py:1011: UserWarning: Scoring failed. The score on this train-test partition for these parameters will be set to nan. Details: \n",
      "Traceback (most recent call last):\n",
      "  File \"C:\\Users\\awben\\AppData\\Roaming\\Python\\Python39\\site-packages\\sklearn\\metrics\\_scorer.py\", line 137, in __call__\n",
      "    score = scorer._score(\n",
      "  File \"C:\\Users\\awben\\AppData\\Roaming\\Python\\Python39\\site-packages\\sklearn\\metrics\\_scorer.py\", line 345, in _score\n",
      "    y_pred = method_caller(\n",
      "  File \"C:\\Users\\awben\\AppData\\Roaming\\Python\\Python39\\site-packages\\sklearn\\metrics\\_scorer.py\", line 87, in _cached_call\n",
      "    result, _ = _get_response_values(\n",
      "  File \"C:\\Users\\awben\\AppData\\Roaming\\Python\\Python39\\site-packages\\sklearn\\utils\\_response.py\", line 203, in _get_response_values\n",
      "    raise ValueError(\n",
      "ValueError: pos_label=1 is not a valid label: It should be one of ['donated' 'not donated']\n",
      "\n",
      "  warnings.warn(\n",
      "C:\\Users\\awben\\AppData\\Roaming\\Python\\Python39\\site-packages\\sklearn\\model_selection\\_validation.py:1011: UserWarning: Scoring failed. The score on this train-test partition for these parameters will be set to nan. Details: \n",
      "Traceback (most recent call last):\n",
      "  File \"C:\\Users\\awben\\AppData\\Roaming\\Python\\Python39\\site-packages\\sklearn\\metrics\\_scorer.py\", line 137, in __call__\n",
      "    score = scorer._score(\n",
      "  File \"C:\\Users\\awben\\AppData\\Roaming\\Python\\Python39\\site-packages\\sklearn\\metrics\\_scorer.py\", line 345, in _score\n",
      "    y_pred = method_caller(\n",
      "  File \"C:\\Users\\awben\\AppData\\Roaming\\Python\\Python39\\site-packages\\sklearn\\metrics\\_scorer.py\", line 87, in _cached_call\n",
      "    result, _ = _get_response_values(\n",
      "  File \"C:\\Users\\awben\\AppData\\Roaming\\Python\\Python39\\site-packages\\sklearn\\utils\\_response.py\", line 203, in _get_response_values\n",
      "    raise ValueError(\n",
      "ValueError: pos_label=1 is not a valid label: It should be one of ['donated' 'not donated']\n",
      "\n",
      "  warnings.warn(\n"
     ]
    }
   ],
   "source": [
    "from sklearn.model_selection import cross_val_score\n",
    "from sklearn.tree import DecisionTreeClassifier\n",
    "\n",
    "tree = DecisionTreeClassifier()\n",
    "try:\n",
    "    scores = cross_val_score(tree, data, target, cv=10, scoring=\"precision\")\n",
    "except ValueError as exc:\n",
    "    print(exc)"
   ]
  },
  {
   "cell_type": "markdown",
   "id": "161ed72c",
   "metadata": {},
   "source": [
    "<div class=\"admonition tip alert alert-warning\">\n",
    "<p class=\"first admonition-title\" style=\"font-weight: bold;\">Tip</p>\n",
    "<p class=\"last\">We catch the exception with a <tt class=\"docutils literal\">try</tt>/<tt class=\"docutils literal\">except</tt> pattern to be able to print it.</p>\n",
    "</div>\n",
    "We get an exception because the default scorer has its positive label set to\n",
    "one (`pos_label=1`), which is not our case (our positive label is \"donated\").\n",
    "In this case, we need to create a scorer using the scoring function and the\n",
    "helper function `make_scorer`.\n",
    "\n",
    "So, import `sklearn.metrics.make_scorer` and\n",
    "`sklearn.metrics.precision_score`. Check their documentations for more\n",
    "information. Finally, create a scorer by calling `make_scorer` using the score\n",
    "function `precision_score` and pass the extra parameter `pos_label=\"donated\"`."
   ]
  },
  {
   "cell_type": "code",
   "execution_count": 42,
   "id": "dba98ca6",
   "metadata": {},
   "outputs": [],
   "source": [
    "from sklearn.metrics import make_scorer\n",
    "from sklearn.metrics import precision_score\n",
    "\n",
    "scorer = make_scorer(precision_score, pos_label=\"donated\")"
   ]
  },
  {
   "cell_type": "markdown",
   "id": "94738ead",
   "metadata": {},
   "source": [
    "Now, instead of providing the string `\"precision\"` to the `scoring` parameter\n",
    "in the `cross_val_score` call, pass the scorer that you created above."
   ]
  },
  {
   "cell_type": "code",
   "execution_count": 43,
   "id": "085ef5c6",
   "metadata": {},
   "outputs": [
    {
     "data": {
      "text/plain": [
       "array([0.20338983, 0.22580645, 0.53333333, 0.11111111, 0.125     ,\n",
       "       0.        , 0.35714286, 0.52173913, 0.15384615, 0.25      ])"
      ]
     },
     "execution_count": 43,
     "metadata": {},
     "output_type": "execute_result"
    }
   ],
   "source": [
    "tree = DecisionTreeClassifier()\n",
    "try:\n",
    "    scores = cross_val_score(tree, data, target, cv=10, scoring=scorer)\n",
    "except ValueError as exc:\n",
    "    print(exc)\n",
    "    \n",
    "scores"
   ]
  },
  {
   "cell_type": "markdown",
   "id": "49a0397a",
   "metadata": {},
   "source": [
    "`cross_val_score` will only compute a single score provided to the `scoring`\n",
    "parameter. The function `cross_validate` allows the computation of multiple\n",
    "scores by passing a list of string or scorer to the parameter `scoring`, which\n",
    "could be handy.\n",
    "\n",
    "Import `sklearn.model_selection.cross_validate` and compute the accuracy and\n",
    "balanced accuracy through cross-validation. Plot the cross-validation score\n",
    "for both metrics using a box plot."
   ]
  },
  {
   "cell_type": "code",
   "execution_count": 50,
   "id": "2eb8f787",
   "metadata": {},
   "outputs": [
    {
     "data": {
      "image/png": "[encoded data removed]",
      "text/plain": [
       "<Figure size 640x480 with 1 Axes>"
      ]
     },
     "metadata": {},
     "output_type": "display_data"
    }
   ],
   "source": [
    "from sklearn.model_selection import cross_validate\n",
    "import matplotlib.pyplot as plt\n",
    "\n",
    "scores_accuracy = cross_validate(tree, data, target, cv=10, scoring=\"accuracy\")\n",
    "scores_balaccuracy = cross_validate(tree, data, target, cv=10, scoring=\"balanced_accuracy\")\n",
    "# scores_accuracy\n",
    "scores = pd.DataFrame({\"Accuracy\":scores_accuracy[\"test_score\"], \"Balanced accuracy\":scores_balaccuracy[\"test_score\"]})\n",
    "\n",
    "color = {\"whiskers\": \"black\", \"medians\": \"black\", \"caps\": \"black\"}\n",
    "scores.plot.box(color=color, vert=False)\n",
    "plt.xlabel(\"Accuracy\")\n",
    "_ = plt.title(\n",
    "    \"Comparison of test_scores\"\n",
    ")\n"
   ]
  }
 ],
 "metadata": {
  "jupytext": {
   "main_language": "python"
  },
  "kernelspec": {
   "display_name": "Python 3 (ipykernel)",
   "language": "python",
   "name": "python3"
  },
  "language_info": {
   "codemirror_mode": {
    "name": "ipython",
    "version": 3
   },
   "file_extension": ".py",
   "mimetype": "text/x-python",
   "name": "python",
   "nbconvert_exporter": "python",
   "pygments_lexer": "ipython3",
   "version": "3.9.11"
  },
  "nbreset": "https://raw.githubusercontent.com/INRIA/scikit-learn-mooc/main/notebooks/metrics_ex_01.ipynb"
 },
 "nbformat": 4,
 "nbformat_minor": 5
}
